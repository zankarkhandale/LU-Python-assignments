{
 "cells": [
  {
   "cell_type": "markdown",
   "metadata": {},
   "source": [
    "# Q1 move all the zeros to the right hand side"
   ]
  },
  {
   "cell_type": "code",
   "execution_count": 13,
   "metadata": {},
   "outputs": [
    {
     "name": "stdout",
     "output_type": "stream",
     "text": [
      "[0, 0, 0, 0, 0, 1, 1, 1, 2, 2, 3, 4, 4, 10, 56, 56]\n",
      "[0, 0, 0, 0, 1, 1, 1, 2, 2, 3, 4, 4, 10, 56, 56, 0]\n",
      "[0, 0, 0, 1, 1, 1, 2, 2, 3, 4, 4, 10, 56, 56, 0, 0]\n",
      "[0, 0, 1, 1, 1, 2, 2, 3, 4, 4, 10, 56, 56, 0, 0, 0]\n"
     ]
    }
   ],
   "source": [
    "a=[0,1,2,10,4,1,0,56,2,0,1,3,0,56,0,4]\n",
    "b=[]\n",
    "a.sort()\n",
    "print(a)\n",
    "for i in (a):\n",
    "    if i is 0:\n",
    "        b.append(i)\n",
    "        a.remove(i)\n",
    "        print(a + b)\n",
    "        \n"
   ]
  },
  {
   "cell_type": "markdown",
   "metadata": {},
   "source": [
    "# Q2 Merge the two list in proper order"
   ]
  },
  {
   "cell_type": "code",
   "execution_count": 25,
   "metadata": {},
   "outputs": [
    {
     "name": "stdout",
     "output_type": "stream",
     "text": [
      "[5, 10, 15, 20, 25, 30, 35, 40, 45, 50, 60, 80]\n"
     ]
    }
   ],
   "source": [
    "list1=[5,15,25,35,45,60]\n",
    "list2=[10,20,30,40,50,80]\n",
    "def combine (list1,list2):\n",
    "    new=[]\n",
    "    for i in range (len(list1)):\n",
    "        new.append(list1[i])\n",
    "        new.append(list2[i])\n",
    "    return new\n",
    "print(combine(list1,list2))"
   ]
  },
  {
   "cell_type": "markdown",
   "metadata": {},
   "source": [
    "# Q1 \n",
    "move all the zeros to the right handside of list"
   ]
  },
  {
   "cell_type": "code",
   "execution_count": 23,
   "metadata": {},
   "outputs": [
    {
     "name": "stdout",
     "output_type": "stream",
     "text": [
      "[1, 1, 1, 2, 2, 3, 4, 4, 10, 56, 56, 0, 0, 0, 0, 0]\n"
     ]
    }
   ],
   "source": [
    "arri=[0,1,2,10,4,1,0,56,2,0,1,3,0,56,0,4]\n",
    "arri.sort()\n",
    "\n",
    "def moveZeros(arri):\n",
    "     return [nonZero for nonZero in arri if nonZero!=0] + [Zero for Zero in arri if Zero == 0]\n",
    "print(moveZeros(arri))"
   ]
  },
  {
   "cell_type": "code",
   "execution_count": null,
   "metadata": {},
   "outputs": [],
   "source": []
  },
  {
   "cell_type": "code",
   "execution_count": null,
   "metadata": {},
   "outputs": [],
   "source": []
  },
  {
   "cell_type": "code",
   "execution_count": null,
   "metadata": {},
   "outputs": [],
   "source": []
  },
  {
   "cell_type": "code",
   "execution_count": null,
   "metadata": {},
   "outputs": [],
   "source": []
  },
  {
   "cell_type": "code",
   "execution_count": null,
   "metadata": {},
   "outputs": [],
   "source": []
  },
  {
   "cell_type": "code",
   "execution_count": null,
   "metadata": {},
   "outputs": [],
   "source": []
  }
 ],
 "metadata": {
  "kernelspec": {
   "display_name": "Python 3",
   "language": "python",
   "name": "python3"
  },
  "language_info": {
   "codemirror_mode": {
    "name": "ipython",
    "version": 3
   },
   "file_extension": ".py",
   "mimetype": "text/x-python",
   "name": "python",
   "nbconvert_exporter": "python",
   "pygments_lexer": "ipython3",
   "version": "3.7.6"
  }
 },
 "nbformat": 4,
 "nbformat_minor": 4
}
