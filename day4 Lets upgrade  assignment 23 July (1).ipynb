{
 "cells": [
  {
   "cell_type": "markdown",
   "metadata": {},
   "source": [
    "# Q2  isupper() & islower()\n",
    "isUpper()  method returns True if all the characters are upper case.\n",
    "islower() method returns true if all the characters in the string are lower case .\n",
    "\n",
    "Note:- Numbers ,Symbols are not checked only characters."
   ]
  },
  {
   "cell_type": "code",
   "execution_count": 5,
   "metadata": {},
   "outputs": [
    {
     "name": "stdout",
     "output_type": "stream",
     "text": [
      "True\n"
     ]
    }
   ],
   "source": [
    "str1 = \"THIS IS NOW THE BEGINNING\"\n",
    "X = str1.isupper()\n",
    "print(X)"
   ]
  },
  {
   "cell_type": "code",
   "execution_count": 6,
   "metadata": {},
   "outputs": [
    {
     "name": "stdout",
     "output_type": "stream",
     "text": [
      "True\n",
      "False\n",
      "False\n"
     ]
    }
   ],
   "source": [
    "a = \"HELLO\"\n",
    "b = \"Jai shree Ram\"\n",
    "c = \"vasudev 2345\"\n",
    "\n",
    "print(a.isupper())\n",
    "print(b.isupper())\n",
    "print(c.isupper())"
   ]
  },
  {
   "cell_type": "code",
   "execution_count": 7,
   "metadata": {},
   "outputs": [
    {
     "name": "stdout",
     "output_type": "stream",
     "text": [
      "True\n"
     ]
    }
   ],
   "source": [
    "str2 = \"the world is on the brink of destruction\"\n",
    "x = str2.islower()\n",
    "print(x)"
   ]
  },
  {
   "cell_type": "code",
   "execution_count": 9,
   "metadata": {},
   "outputs": [
    {
     "name": "stdout",
     "output_type": "stream",
     "text": [
      "False\n",
      "True\n",
      "False\n"
     ]
    }
   ],
   "source": [
    "a = \"this is the Gon freeces batch 207 from the hunter's exam\"\n",
    "b = \"this is the residence of killua zoldyack\"\n",
    "c = \"Gon and killua are the very best friend's\"\n",
    "\n",
    "print(a.islower())\n",
    "print(b.islower())\n",
    "print(c.islower())"
   ]
  },
  {
   "cell_type": "code",
   "execution_count": 10,
   "metadata": {},
   "outputs": [
    {
     "name": "stdout",
     "output_type": "stream",
     "text": [
      "True\n",
      "True\n"
     ]
    }
   ],
   "source": [
    "a = \"THIS IS THE NEW COOL THING\"\n",
    "b = \"this is the new cool\"\n",
    "\n",
    "print(a.isupper())\n",
    "print(b.islower())"
   ]
  },
  {
   "cell_type": "markdown",
   "metadata": {},
   "source": [
    "# Q1 \n",
    "Find all the occurence and print the index value."
   ]
  },
  {
   "cell_type": "code",
   "execution_count": 2,
   "metadata": {},
   "outputs": [
    {
     "name": "stdout",
     "output_type": "stream",
     "text": [
      "5\n",
      "14\n",
      "24\n"
     ]
    }
   ],
   "source": [
    "str1 = \"what we think we become we are the dreamers of our reality\"\n",
    "sub_str = \"we\"\n",
    "print(str1.find(sub_str))\n",
    "if(str1.find(sub_str) == 5):\n",
    "    print(str1.find(\"w\", 10, 15))\n",
    "if(str1.rfind(sub_str) == 24 ):\n",
    "        print(str1.rfind(sub_str))\n",
    "else:\n",
    "            print(\"not found\")\n",
    "    "
   ]
  },
  {
   "cell_type": "code",
   "execution_count": null,
   "metadata": {},
   "outputs": [],
   "source": []
  }
 ],
 "metadata": {
  "kernelspec": {
   "display_name": "Python 3",
   "language": "python",
   "name": "python3"
  },
  "language_info": {
   "codemirror_mode": {
    "name": "ipython",
    "version": 3
   },
   "file_extension": ".py",
   "mimetype": "text/x-python",
   "name": "python",
   "nbconvert_exporter": "python",
   "pygments_lexer": "ipython3",
   "version": "3.7.6"
  }
 },
 "nbformat": 4,
 "nbformat_minor": 4
}
